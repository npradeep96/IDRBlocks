{
 "cells": [
  {
   "cell_type": "code",
   "execution_count": 1,
   "id": "bbeb4f9f",
   "metadata": {},
   "outputs": [],
   "source": [
    "import numpy as np\n",
    "import csv\n",
    "from matplotlib import pyplot as plt\n",
    "import pdb\n",
    "from collections import Counter\n",
    "import re"
   ]
  },
  {
   "cell_type": "code",
   "execution_count": null,
   "id": "18caa3a9",
   "metadata": {},
   "outputs": [],
   "source": [
    "from matplotlib import rc\n",
    "rc('font',**{'family':'serif','serif':['Times']})\n",
    "rc('text', usetex=True)\n",
    "plt.rcParams['xtick.labelsize']=20\n",
    "plt.rcParams['ytick.labelsize']=20\n",
    "plt.rcParams['font.size']=20\n",
    "plt.rcParams[\"text.usetex\"]=True"
   ]
  },
  {
   "cell_type": "markdown",
   "id": "e737056f",
   "metadata": {},
   "source": [
    "## Some definitions:"
   ]
  },
  {
   "cell_type": "markdown",
   "id": "eeb1bfc8",
   "metadata": {},
   "source": [
    "| Term | Example |\n",
    "| :--- | :------ |\n",
    "| Sequence | **RRTEKDLDEKKKEPAITSQNSPEARERSKSSGNVSN** | \n",
    "| Window   | $\\underbrace{\\text{RRTEKD}} \\underbrace{\\text{LDEKKK}}\\underbrace{\\text{EPAITS}}\\underbrace{\\text{QNSPEA}}\\underbrace{\\text{RERSKS}}\\underbrace{\\text{SGNVSN}}$ |\n",
    "| ``cutoff_number`` | Cutoff number of residues belonging to a category (e.g. basic) above which we call a window to be of that category | \n",
    "|Coarse-grained representation | 110010 (1 if window contains more that ``cutoff_number`` of residues belonging to a ``category``)| \n",
    "| Block | Windows for which the value of the coarse-grained representation is 1|\n"
   ]
  },
  {
   "cell_type": "markdown",
   "id": "879d77f0",
   "metadata": {},
   "source": [
    "## Class to analyze sequences"
   ]
  },
  {
   "cell_type": "code",
   "execution_count": null,
   "id": "3164d2ce",
   "metadata": {},
   "outputs": [],
   "source": [
    "class analyze_sequences:\n",
    "    \"\"\"\n",
    "    Class to perform different kinds of analysis on the IDR sequences. Analysis includes:\n",
    "    1. Get statistics on the length of sequences from a csv file containing seqeunces\n",
    "    2. Constructing a coarse-grained representation of sequences \n",
    "    3. Get the distance between every pair of windows that are 1's\n",
    "    4. Plot a probability distribution of the above distances to estimate a correlation length\n",
    "    \"\"\"\n",
    "    \n",
    "    def __init__(self, window_length, cutoff_number):\n",
    "        \"\"\"\n",
    "        Function to initialize the class object. Inputs are:\n",
    "        \n",
    "        :param window_length: Length of non-pverlapping window used to coarse-grain the sequences\n",
    "        :type window_length: int\n",
    "        :param cutoff_number: Number of residues above which we call the window to belong to a particular type e.g. 'basic'\n",
    "        :type cutoff_number: int\n",
    "        \"\"\"\n",
    "        self.window_length = window_length\n",
    "        self.cutoff_number = cutoff_number\n",
    "        self.categories = {'basic': ['R', 'K'],\n",
    "                           'acidic': ['D', 'E'],\n",
    "                          }\n",
    "    \n",
    "    def coarse_grain_sequence(self, sequence, category):\n",
    "        \"\"\"\n",
    "        Function that coarse-grains a ``sequence`` according to a passed ``category``  \n",
    "        If the number of occurences of a residues belonging to the ``category`` within a window is more than ``cutoff_number``, then it is represented to be 1. Else 0.\n",
    "        \n",
    "        :param sequence: An amino acid sequence\n",
    "        :type sequence: string \n",
    "        :param category: The category of residues. Examples include basic (R, K, or H), acidic (D, E), etc. \n",
    "        :type cutoff_number: string\n",
    "        \n",
    "        :return coarse_grained_sequence: A coarse-grained representation of the sequence\n",
    "        :rtype coarse_grained_sequence: list (of 0's and 1's)\n",
    "        \"\"\"\n",
    "        length_of_sequence = len(sequence)\n",
    "        \n",
    "        # Number of non-overlapping windows in the original sequence will be the length of the coarse-grained sequence\n",
    "        coarse_grained_length = int(length_of_sequence/self.window_length)\n",
    "        # Initialize coarse-grained sequence. This is a list of 0's and 1's\n",
    "        coarse_grained_sequence = [0]*coarse_grained_length\n",
    "        \n",
    "        for i in range(0, coarse_grained_length):\n",
    "            start_index = self.window_length*i\n",
    "            end_index =  min(self.window_length*(i+1), length_of_sequence)\n",
    "            \n",
    "            # substring that contains all amino acids in the current window\n",
    "            substr = sequence[start_index:end_index]\n",
    "            # count the number of occurences of amino acids belonging to ``category`` in the substring\n",
    "            counter = 0\n",
    "            for amino_acid in self.categories[category]:\n",
    "                counter = counter + substr.count(amino_acid)\n",
    "            # if this count is larger than the cutoff value, then set this window to 1. Else, it is anyway 0.\n",
    "            if counter >= self.cutoff_number:\n",
    "                coarse_grained_sequence[i] = 1\n",
    "                \n",
    "        return coarse_grained_sequence\n",
    "    \n",
    "    def get_distance_list(self, coarse_grained_sequence_1, coarse_grained_sequence_2):\n",
    "        \"\"\"\n",
    "        Function that computes the distance between every pair of blocks in the coarse-grained sequences 1 and 2 and returns a list of distances\n",
    "        \n",
    "        :param coarse_grained_sequence_1: Coarse-grained representation of sequence 1\n",
    "        :param coarse_grained_sequence_2: Coarse-grained representation of sequence 2\n",
    "        :type coarse_grained_sequence_1: list\n",
    "        :type coarse_grained_sequence_2: list\n",
    "        \n",
    "        :return distance_list: List that contains distances between every pair of blocks in the coarse-grained sequence\n",
    "        :rtype distance_list: list\n",
    "        \"\"\"\n",
    "        # get the indices of blocks i.e. windows for which the coarse grained sequence has a value 1\n",
    "        indices_of_blocks_1 = [index for index,val in enumerate(coarse_grained_sequence_1) if val == 1]\n",
    "        indices_of_blocks_2 = [index for index,val in enumerate(coarse_grained_sequence_2) if val == 1]\n",
    "        length_of_index_list_1 = len(indices_of_blocks_1)\n",
    "        length_of_index_list_2 = len(indices_of_blocks_2)\n",
    "        # initialize and compute the list of distances between every pair of blocks in the coarse grained sequence\n",
    "        distance_list = list()\n",
    "        for i in range(length_of_index_list_1):\n",
    "            for j in range(length_of_index_list_2):\n",
    "                if i != j:\n",
    "                    distance_list.append(np.abs(indices_of_blocks_1[i]-indices_of_blocks_2[j]))\n",
    "                \n",
    "        return distance_list"
   ]
  },
  {
   "cell_type": "markdown",
   "id": "4096d064",
   "metadata": {},
   "source": [
    "## Analyze files"
   ]
  },
  {
   "cell_type": "markdown",
   "id": "2b2011f0",
   "metadata": {},
   "source": [
    "### Function to run through files and compute summary statistics"
   ]
  },
  {
   "cell_type": "code",
   "execution_count": null,
   "id": "ea729c5c",
   "metadata": {},
   "outputs": [],
   "source": [
    "def compute_statistics_from_file(analysis, filename, categories):\n",
    "    \"\"\"\n",
    "    Function that reads all the sequences present in ``filename``.csv and computes the following statistics:\n",
    "    1. The number of sequences that have at least one block of amino acid residues belonging to ``category``\n",
    "    2. Lengths of all sequences in file name\n",
    "    3. Lengths of all sequences containing at least one block of amino acid residues belonging to ``category``\n",
    "    4. Distances between every pair of blocks within sequences in ``filename``.csv\n",
    "    \n",
    "    :param filename: Name of file that contains sequences to analyze\n",
    "    :type filename: string\n",
    "    :param category: A list of amino acid categories based on which sequences are coarse-grained e.g. ['acidic', 'basic', ...]\n",
    "    :type category: list of strings\n",
    "    :param analysis: Object of the class ``analyze_sequences`` which specifies parameters on how to perform sequence analysis\n",
    "    :type analysis: object of class ``analyze_sequences``\n",
    "    \n",
    "    :return statistics_dict: Dictionary that contains the above summary statistics described\n",
    "    :rtype statistics_dict: dictionary\n",
    "    \"\"\"\n",
    "    # Initialize variables to store summary statistics\n",
    "    num_categories = len(categories)\n",
    "    distances = {}\n",
    "    lengths = []\n",
    "    lengths_with_at_least_one_block = {}\n",
    "    \n",
    "    for i in range(num_categories):\n",
    "        # pdb.set_trace()\n",
    "        lengths_with_at_least_one_block[categories[i]] = []\n",
    "        for j in range(i, num_categories):\n",
    "            distances[categories[i] + '_' + categories[j]] = []\n",
    "    \n",
    "    # Read sequences in files and compute summary statistics\n",
    "    with open(filename) as csv_file:\n",
    "        csv_reader = csv.reader(csv_file, delimiter=',')\n",
    "        first_line = True\n",
    "        for row in csv_reader:\n",
    "            # ignore the first line\n",
    "            if first_line:\n",
    "                first_line = False\n",
    "            else:\n",
    "                sequence = row[1]\n",
    "                lengths.append(len(sequence))\n",
    "                for i in range(num_categories):\n",
    "                    coarse_grained_sequence = analysis.coarse_grain_sequence(sequence, categories[i])\n",
    "                    number_of_blocks = np.sum(coarse_grained_sequence)\n",
    "                    if number_of_blocks > 0:\n",
    "                        lengths_with_at_least_one_block[categories[i]].append(len(sequence))                    \n",
    "                    for j in range(i, num_categories):\n",
    "                        coarse_grained_sequence_2 = analysis.coarse_grain_sequence(sequence, categories[j])\n",
    "                        distances[categories[i] + '_' + categories[j]] += analysis.get_distance_list(\n",
    "                            coarse_grained_sequence, coarse_grained_sequence_2)                \n",
    "    \n",
    "    statistics_dict = {'Total number of sequences': len(lengths),\n",
    "                       'Total number of sequences with at least one block': {key: len(lengths_with_at_least_one_block[key]) \n",
    "                                                                             for key in lengths_with_at_least_one_block.keys()}, \n",
    "                       'Lengths of sequences': lengths,\n",
    "                       'Lengths of sequences with at least one block': lengths_with_at_least_one_block,\n",
    "                       'Distances between pairs of blocks': distances\n",
    "                      }\n",
    "    \n",
    "    return statistics_dict"
   ]
  },
  {
   "cell_type": "markdown",
   "id": "14e6ac73",
   "metadata": {},
   "source": [
    "### Run through the different files containing sequences and compute summary statistics"
   ]
  },
  {
   "cell_type": "code",
   "execution_count": null,
   "id": "2429794d",
   "metadata": {},
   "outputs": [],
   "source": [
    "# Create analysis object\n",
    "analysis = analyze_sequences(window_length=6, cutoff_number=3)\n",
    "# Note: the parameters window_length and cutofF_number can be changed as necessary"
   ]
  },
  {
   "cell_type": "code",
   "execution_count": null,
   "id": "c7bae684",
   "metadata": {
    "scrolled": false
   },
   "outputs": [],
   "source": [
    "file_list = {'Partitioned': 'top_200_IDR_sequences/IDR_Sequences_Partitioned.csv', \n",
    "             'Excluded': 'top_200_IDR_sequences/IDR_Sequences_Excluded.csv'}\n",
    "categories = ['acidic', 'basic']\n",
    "statistics = {}\n",
    "\n",
    "for keys, file in file_list.items():\n",
    "    statistics[keys] = compute_statistics_from_file(analysis=analysis, filename=file, categories=categories)\n",
    "\n",
    "# Print out results from analysis:\n",
    "for keys, file in file_list.items():\n",
    "    print('Summary statistics for: ' + file)\n",
    "    print('-----------------------')\n",
    "    print('1. Number of sequences: ' + str(statistics[keys]['Total number of sequences']))\n",
    "    print('2. Number of sequences with at least one block of ...')\n",
    "    fig,axs = plt.subplots(len(categories),1, figsize=(5, 5*len(categories)))\n",
    "    for i in range(len(categories)):\n",
    "        print('   ' + categories[i] + ': ' \n",
    "              + str(statistics[keys]['Total number of sequences with at least one block'][categories[i]]))\n",
    "        freq_dist = axs[i].hist(statistics[keys]['Lengths of sequences with at least one block'][categories[i]], \n",
    "                             range=(1, \n",
    "                                    np.max(statistics[keys]['Lengths of sequences with at least one block'][categories[i]])), \n",
    "                             bins=20, label=categories[i])\n",
    "        axs[i].set_ylabel('Frequency')\n",
    "        axs[i].legend()\n",
    "    axs[i].set_xlabel('Length of sequence')\n",
    "    print('3. Length distributions for sequences containing at least one block of ...')\n",
    "    plt.show()\n",
    "    plt.close()"
   ]
  },
  {
   "cell_type": "markdown",
   "id": "4852d8cd",
   "metadata": {},
   "source": [
    "### Distribution of distances between pairs of blocks that contain residues from a pair of categories"
   ]
  },
  {
   "cell_type": "code",
   "execution_count": null,
   "id": "fc3ee297",
   "metadata": {
    "scrolled": true
   },
   "outputs": [],
   "source": [
    "file_list = {'Partitioned': 'top_200_IDR_sequences/IDR_Sequences_Partitioned.csv', \n",
    "             'Excluded': 'top_200_IDR_sequences/IDR_Sequences_Excluded.csv'}\n",
    "categories = ['acidic', 'basic']\n",
    "statistics = {}\n",
    "\n",
    "for keys, file in file_list.items():\n",
    "    statistics[keys] = compute_statistics_from_file(analysis=analysis, filename=file, categories=categories)\n",
    "\n",
    "for i in range(len(categories)):\n",
    "    for j in range(i, len(categories)):\n",
    "        number_of_files = len(file_list.keys())\n",
    "        fig,axs = plt.subplots(1,3,figsize=(18,5))\n",
    "        for file_key, file in file_list.items():\n",
    "            category_key = categories[i] + '_' + categories[j]\n",
    "            distance_list = statistics[file_key]['Distances between pairs of blocks'][category_key]\n",
    "            freq_dist = axs[2].hist(distance_list, range=(1, np.max(distance_list)), bins=int(np.max(distance_list)-1), \n",
    "                                    label=file_key)\n",
    "            counts, distances = freq_dist[0], freq_dist[1]\n",
    "            probability = np.array(counts)/np.sum(counts)\n",
    "            axs[0].plot(distances[:-1], probability, label=file_key)\n",
    "            axs[1].semilogy(distances[:-1], probability, label=file_key)\n",
    "        axs[0].set_xlabel('Distance between two blocks')\n",
    "        axs[0].set_ylabel('Probability in dataset')\n",
    "        axs[0].legend()\n",
    "        axs[0].set_title(categories[i] + '-' + categories[j])\n",
    "        axs[1].set_xlabel('Distance between two blocks')\n",
    "        axs[1].legend()\n",
    "        axs[1].set_title(categories[i] + '-' + categories[j])\n",
    "        axs[2].set_xlabel('Distance between two blocks')\n",
    "        axs[2].set_ylabel('Frequency')\n",
    "        axs[2].legend()\n",
    "        axs[2].set_title(categories[i] + '-' + categories[j])"
   ]
  },
  {
   "cell_type": "markdown",
   "id": "02e76a9c",
   "metadata": {},
   "source": [
    "## Check if the sequences can be distinguished by just amino acid compositions and blockiness metrics"
   ]
  },
  {
   "cell_type": "code",
   "execution_count": null,
   "id": "7a4ce1a2",
   "metadata": {},
   "outputs": [],
   "source": [
    "import sys\n",
    "sys.path.append('../')\n",
    "import utils.data_generation_and_treatment as dgen\n",
    "import utils.cluster_tools as ct"
   ]
  },
  {
   "cell_type": "code",
   "execution_count": null,
   "id": "f65d360e",
   "metadata": {
    "scrolled": false
   },
   "outputs": [],
   "source": [
    "data_matrix, all_seqs_list = dgen.generate_data_matrix(\n",
    "    list_of_files=['top_200_IDR_sequences/IDR_Sequences_Excluded.csv',\n",
    "                   'top_200_IDR_sequences/IDR_Sequences_Partitioned.csv'], \n",
    "    label=[0, 1],\n",
    "    write_file_path='data_matrix', \n",
    "    custom_aa_list=['E','D', 'R','K','H', 'Q','N','S','T','G', 'C', 'A','L','M','I','V','F','Y','W','P'], \n",
    "    aa_group=[['E','D'], ['R','K']], aa_group_names=['Negative', 'Positive'])\n",
    "\n",
    "obs_matrix = np.array(data_matrix.iloc[:, :-1])\n",
    "labels = np.array(data_matrix.iloc[:, -1])\n",
    "\n",
    "for perplexity in [30]:\n",
    "    Y = ct.tSNE_projection(obs_matrix)\n",
    "    ax = ct.plot_tSNE(Y, labels, colors=['orange', 'blue'], labels=['Excluded', 'Included'], \n",
    "                      file_save=True, write_path='data_matrix/figures/tSNE_perplexity_' + str(perplexity) + '/')\n",
    "    \n",
    "cluster_labels = dgen.cluster_reduced_matrix(Y, true_labels=labels, num_components=2, num_clusters=2, write_file_path='data_matrix', flag_save_files=True, switch_PCA_tSNE=2)\n",
    "dgen.plot_2D_cluster(write_file_path='data_matrix', pc_scores=Y, labels=cluster_labels, num_components=2, flag_save_files=True, switch_PCA_tSNE=2)\n",
    "dgen.generate_purity_plots(write_file_path='data_matrix', label_legends=['Excluded', 'Included'], flag_save_files=True, switch=2, num_components=2, num_clusters=2)\n",
    "# dgen.plot_enrichment_vs_cluster_size(write_file_path='data_matrix', output_filename='enrichment_vs_cluster_size', data_matrix=data_matrix, labels=labels, label_legends=['Excluded', 'Included'], colors=['orange', 'blue'], xlim=[0.0, 120.0], ylim=[0.0, 1.5], switch=2, flag_save_files=True, num_components=2, num_clusters=5)\n",
    "\n",
    "# eig_vals, eig_vecs, pc_scores = ct.PCA_analysis(obs_matrix, clean_matrix=True)\n",
    "# ax = ct.plot_PCA(pc_scores, labels, colors=['blue', 'orange'], labels=['Excluded', 'Included'], file_save=True, write_path='data_matrix/')"
   ]
  },
  {
   "cell_type": "code",
   "execution_count": null,
   "id": "392a3ebf",
   "metadata": {},
   "outputs": [],
   "source": [
    "dgen.plot_enrichment_vs_cluster_size(write_file_path='data_matrix', output_filename='enrichment_vs_cluster_size', data_matrix=data_matrix, labels=labels, label_legends=['Excluded', 'Included'], colors=['orange', 'blue'], xlim=[0.0, 70.0], ylim=[0.0, 2.0], switch=2, flag_save_files=True, num_components=2, num_clusters=2)"
   ]
  }
 ],
 "metadata": {
  "kernelspec": {
   "display_name": "Python 3 (ipykernel)",
   "language": "python",
   "name": "python3"
  },
  "language_info": {
   "codemirror_mode": {
    "name": "ipython",
    "version": 3
   },
   "file_extension": ".py",
   "mimetype": "text/x-python",
   "name": "python",
   "nbconvert_exporter": "python",
   "pygments_lexer": "ipython3",
   "version": "3.7.12"
  }
 },
 "nbformat": 4,
 "nbformat_minor": 5
}
